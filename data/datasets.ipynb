{
 "cells": [
  {
   "cell_type": "code",
   "execution_count": 1,
   "metadata": {},
   "outputs": [],
   "source": [
    "import pandas as pd"
   ]
  },
  {
   "cell_type": "code",
   "execution_count": 2,
   "metadata": {},
   "outputs": [],
   "source": [
    "## extracting the follwoing datasets \n",
    "# ADEClassificationDataset  HallmarkOfCancer  MedicalAbstractsTC           MedicalTranscriptsClassification  PubMed-200k-RCT                     RateMDs\n",
    "# CancerDocClassification   HealthcareTweets  MedicalAdviceClassification  OHSUMedDataset                    PubMedMultiLabelTextClassification\n"
   ]
  },
  {
   "cell_type": "markdown",
   "metadata": {},
   "source": [
    "## Processsing ADEClassificationDataset"
   ]
  },
  {
   "cell_type": "code",
   "execution_count": 3,
   "metadata": {},
   "outputs": [
    {
     "name": "stdout",
     "output_type": "stream",
     "text": [
      "(20896, 3)\n"
     ]
    },
    {
     "data": {
      "text/html": [
       "<div>\n",
       "<style scoped>\n",
       "    .dataframe tbody tr th:only-of-type {\n",
       "        vertical-align: middle;\n",
       "    }\n",
       "\n",
       "    .dataframe tbody tr th {\n",
       "        vertical-align: top;\n",
       "    }\n",
       "\n",
       "    .dataframe thead th {\n",
       "        text-align: right;\n",
       "    }\n",
       "</style>\n",
       "<table border=\"1\" class=\"dataframe\">\n",
       "  <thead>\n",
       "    <tr style=\"text-align: right;\">\n",
       "      <th></th>\n",
       "      <th>Text</th>\n",
       "      <th>ADE-related</th>\n",
       "      <th>Not ADE-related</th>\n",
       "    </tr>\n",
       "  </thead>\n",
       "  <tbody>\n",
       "    <tr>\n",
       "      <th>0</th>\n",
       "      <td>Intravenous azithromycin-induced ototoxicity.</td>\n",
       "      <td>True</td>\n",
       "      <td>False</td>\n",
       "    </tr>\n",
       "    <tr>\n",
       "      <th>1</th>\n",
       "      <td>Immobilization, while Paget's bone disease was...</td>\n",
       "      <td>True</td>\n",
       "      <td>False</td>\n",
       "    </tr>\n",
       "    <tr>\n",
       "      <th>2</th>\n",
       "      <td>Unaccountable severe hypercalcemia in a patien...</td>\n",
       "      <td>True</td>\n",
       "      <td>False</td>\n",
       "    </tr>\n",
       "    <tr>\n",
       "      <th>3</th>\n",
       "      <td>METHODS: We report two cases of pseudoporphyri...</td>\n",
       "      <td>True</td>\n",
       "      <td>False</td>\n",
       "    </tr>\n",
       "    <tr>\n",
       "      <th>4</th>\n",
       "      <td>Naproxen, the most common offender, has been a...</td>\n",
       "      <td>True</td>\n",
       "      <td>False</td>\n",
       "    </tr>\n",
       "  </tbody>\n",
       "</table>\n",
       "</div>"
      ],
      "text/plain": [
       "                                                Text  ADE-related  \\\n",
       "0      Intravenous azithromycin-induced ototoxicity.         True   \n",
       "1  Immobilization, while Paget's bone disease was...         True   \n",
       "2  Unaccountable severe hypercalcemia in a patien...         True   \n",
       "3  METHODS: We report two cases of pseudoporphyri...         True   \n",
       "4  Naproxen, the most common offender, has been a...         True   \n",
       "\n",
       "   Not ADE-related  \n",
       "0            False  \n",
       "1            False  \n",
       "2            False  \n",
       "3            False  \n",
       "4            False  "
      ]
     },
     "execution_count": 3,
     "metadata": {},
     "output_type": "execute_result"
    }
   ],
   "source": [
    "## Reading ADEClassificationDataset\n",
    "df_ade = pd.read_csv(\"/project/pi_hongyu_umass_edu/shared_datasets/TextClassification/ADEClassificationDataset/processed_data.csv\")\n",
    "print(df_ade.shape)\n",
    "df_ade.head()"
   ]
  },
  {
   "cell_type": "code",
   "execution_count": 7,
   "metadata": {},
   "outputs": [
    {
     "name": "stdout",
     "output_type": "stream",
     "text": [
      "Index(['Text', 'Label'], dtype='object')\n"
     ]
    },
    {
     "data": {
      "text/html": [
       "<div>\n",
       "<style scoped>\n",
       "    .dataframe tbody tr th:only-of-type {\n",
       "        vertical-align: middle;\n",
       "    }\n",
       "\n",
       "    .dataframe tbody tr th {\n",
       "        vertical-align: top;\n",
       "    }\n",
       "\n",
       "    .dataframe thead th {\n",
       "        text-align: right;\n",
       "    }\n",
       "</style>\n",
       "<table border=\"1\" class=\"dataframe\">\n",
       "  <thead>\n",
       "    <tr style=\"text-align: right;\">\n",
       "      <th></th>\n",
       "      <th>Text</th>\n",
       "      <th>Label</th>\n",
       "    </tr>\n",
       "  </thead>\n",
       "  <tbody>\n",
       "    <tr>\n",
       "      <th>0</th>\n",
       "      <td>Intravenous azithromycin-induced ototoxicity.</td>\n",
       "      <td>ADE-related</td>\n",
       "    </tr>\n",
       "    <tr>\n",
       "      <th>1</th>\n",
       "      <td>Immobilization, while Paget's bone disease was...</td>\n",
       "      <td>ADE-related</td>\n",
       "    </tr>\n",
       "    <tr>\n",
       "      <th>2</th>\n",
       "      <td>Unaccountable severe hypercalcemia in a patien...</td>\n",
       "      <td>ADE-related</td>\n",
       "    </tr>\n",
       "    <tr>\n",
       "      <th>3</th>\n",
       "      <td>METHODS: We report two cases of pseudoporphyri...</td>\n",
       "      <td>ADE-related</td>\n",
       "    </tr>\n",
       "    <tr>\n",
       "      <th>4</th>\n",
       "      <td>Naproxen, the most common offender, has been a...</td>\n",
       "      <td>ADE-related</td>\n",
       "    </tr>\n",
       "    <tr>\n",
       "      <th>...</th>\n",
       "      <td>...</td>\n",
       "      <td>...</td>\n",
       "    </tr>\n",
       "    <tr>\n",
       "      <th>41787</th>\n",
       "      <td>At autopsy, the liver was found to be small, s...</td>\n",
       "      <td>Not ADE-related</td>\n",
       "    </tr>\n",
       "    <tr>\n",
       "      <th>41788</th>\n",
       "      <td>Physical exam revealed a patient with aphasia,...</td>\n",
       "      <td>Not ADE-related</td>\n",
       "    </tr>\n",
       "    <tr>\n",
       "      <th>41789</th>\n",
       "      <td>At the time when the leukemia appeared seven o...</td>\n",
       "      <td>Not ADE-related</td>\n",
       "    </tr>\n",
       "    <tr>\n",
       "      <th>41790</th>\n",
       "      <td>The American Society for Regional Anesthesia a...</td>\n",
       "      <td>Not ADE-related</td>\n",
       "    </tr>\n",
       "    <tr>\n",
       "      <th>41791</th>\n",
       "      <td>Concomitant administration of estradiol result...</td>\n",
       "      <td>Not ADE-related</td>\n",
       "    </tr>\n",
       "  </tbody>\n",
       "</table>\n",
       "<p>20896 rows × 2 columns</p>\n",
       "</div>"
      ],
      "text/plain": [
       "                                                    Text            Label\n",
       "0          Intravenous azithromycin-induced ototoxicity.      ADE-related\n",
       "1      Immobilization, while Paget's bone disease was...      ADE-related\n",
       "2      Unaccountable severe hypercalcemia in a patien...      ADE-related\n",
       "3      METHODS: We report two cases of pseudoporphyri...      ADE-related\n",
       "4      Naproxen, the most common offender, has been a...      ADE-related\n",
       "...                                                  ...              ...\n",
       "41787  At autopsy, the liver was found to be small, s...  Not ADE-related\n",
       "41788  Physical exam revealed a patient with aphasia,...  Not ADE-related\n",
       "41789  At the time when the leukemia appeared seven o...  Not ADE-related\n",
       "41790  The American Society for Regional Anesthesia a...  Not ADE-related\n",
       "41791  Concomitant administration of estradiol result...  Not ADE-related\n",
       "\n",
       "[20896 rows x 2 columns]"
      ]
     },
     "execution_count": 7,
     "metadata": {},
     "output_type": "execute_result"
    }
   ],
   "source": [
    "df_long = pd.melt(df_ade, id_vars=[\"Text\"], \n",
    "                  value_vars=[\"ADE-related\", \"Not ADE-related\"], \n",
    "                  var_name=\"Label\", \n",
    "                  value_name=\"Status\")\n",
    "\n",
    "df_long = df_long[df_long[\"Status\"] == True].drop(columns=\"Status\")\n",
    "\n",
    "print(df_long.columns)\n",
    "df_long"
   ]
  },
  {
   "cell_type": "code",
   "execution_count": 10,
   "metadata": {},
   "outputs": [],
   "source": [
    "df_long.to_csv(\"processed/Processed_ADEClassificationDataset.csv\")"
   ]
  },
  {
   "cell_type": "markdown",
   "metadata": {},
   "source": [
    "## Processsing HallmarkOfCancer"
   ]
  },
  {
   "cell_type": "code",
   "execution_count": 12,
   "metadata": {},
   "outputs": [
    {
     "name": "stdout",
     "output_type": "stream",
     "text": [
      "(12119, 11)\n"
     ]
    },
    {
     "data": {
      "text/html": [
       "<div>\n",
       "<style scoped>\n",
       "    .dataframe tbody tr th:only-of-type {\n",
       "        vertical-align: middle;\n",
       "    }\n",
       "\n",
       "    .dataframe tbody tr th {\n",
       "        vertical-align: top;\n",
       "    }\n",
       "\n",
       "    .dataframe thead th {\n",
       "        text-align: right;\n",
       "    }\n",
       "</style>\n",
       "<table border=\"1\" class=\"dataframe\">\n",
       "  <thead>\n",
       "    <tr style=\"text-align: right;\">\n",
       "      <th></th>\n",
       "      <th>Text</th>\n",
       "      <th>Sustaining proliferative signaling (PS)</th>\n",
       "      <th>Evading growth suppressors (GS)</th>\n",
       "      <th>Resisting cell death (CD)</th>\n",
       "      <th>Enabling replicative immortality (RI)</th>\n",
       "      <th>Inducing angiogenesis (A)</th>\n",
       "      <th>Activating invasion &amp; metastasis (IM)</th>\n",
       "      <th>Genome instability &amp; mutation (GI)</th>\n",
       "      <th>Tumor-promoting inflammation (TPI)</th>\n",
       "      <th>Deregulating cellular energetics (CE)</th>\n",
       "      <th>Avoiding immune destruction (ID)</th>\n",
       "    </tr>\n",
       "  </thead>\n",
       "  <tbody>\n",
       "    <tr>\n",
       "      <th>0</th>\n",
       "      <td>Hypoxic events frequently occur in the aquatic...</td>\n",
       "      <td>0</td>\n",
       "      <td>0</td>\n",
       "      <td>0</td>\n",
       "      <td>0</td>\n",
       "      <td>0</td>\n",
       "      <td>0</td>\n",
       "      <td>0</td>\n",
       "      <td>1</td>\n",
       "      <td>0</td>\n",
       "      <td>0</td>\n",
       "    </tr>\n",
       "    <tr>\n",
       "      <th>1</th>\n",
       "      <td>Only a few studies are however available on th...</td>\n",
       "      <td>0</td>\n",
       "      <td>0</td>\n",
       "      <td>0</td>\n",
       "      <td>0</td>\n",
       "      <td>0</td>\n",
       "      <td>0</td>\n",
       "      <td>0</td>\n",
       "      <td>1</td>\n",
       "      <td>0</td>\n",
       "      <td>0</td>\n",
       "    </tr>\n",
       "    <tr>\n",
       "      <th>2</th>\n",
       "      <td>To elucidate the phenomenon , mirror carp Cypr...</td>\n",
       "      <td>0</td>\n",
       "      <td>0</td>\n",
       "      <td>0</td>\n",
       "      <td>0</td>\n",
       "      <td>0</td>\n",
       "      <td>0</td>\n",
       "      <td>0</td>\n",
       "      <td>1</td>\n",
       "      <td>0</td>\n",
       "      <td>0</td>\n",
       "    </tr>\n",
       "    <tr>\n",
       "      <th>3</th>\n",
       "      <td>( 16.13-16.22 g ) were exposed chronically to ...</td>\n",
       "      <td>0</td>\n",
       "      <td>0</td>\n",
       "      <td>0</td>\n",
       "      <td>0</td>\n",
       "      <td>0</td>\n",
       "      <td>0</td>\n",
       "      <td>0</td>\n",
       "      <td>1</td>\n",
       "      <td>0</td>\n",
       "      <td>0</td>\n",
       "    </tr>\n",
       "    <tr>\n",
       "      <th>4</th>\n",
       "      <td>Level of oxidative DNA damage ( as determined ...</td>\n",
       "      <td>0</td>\n",
       "      <td>0</td>\n",
       "      <td>0</td>\n",
       "      <td>0</td>\n",
       "      <td>0</td>\n",
       "      <td>0</td>\n",
       "      <td>0</td>\n",
       "      <td>1</td>\n",
       "      <td>0</td>\n",
       "      <td>0</td>\n",
       "    </tr>\n",
       "  </tbody>\n",
       "</table>\n",
       "</div>"
      ],
      "text/plain": [
       "                                                Text  \\\n",
       "0  Hypoxic events frequently occur in the aquatic...   \n",
       "1  Only a few studies are however available on th...   \n",
       "2  To elucidate the phenomenon , mirror carp Cypr...   \n",
       "3  ( 16.13-16.22 g ) were exposed chronically to ...   \n",
       "4  Level of oxidative DNA damage ( as determined ...   \n",
       "\n",
       "   Sustaining proliferative signaling (PS)  Evading growth suppressors (GS)  \\\n",
       "0                                        0                                0   \n",
       "1                                        0                                0   \n",
       "2                                        0                                0   \n",
       "3                                        0                                0   \n",
       "4                                        0                                0   \n",
       "\n",
       "   Resisting cell death (CD)  Enabling replicative immortality (RI)  \\\n",
       "0                          0                                      0   \n",
       "1                          0                                      0   \n",
       "2                          0                                      0   \n",
       "3                          0                                      0   \n",
       "4                          0                                      0   \n",
       "\n",
       "   Inducing angiogenesis (A)  Activating invasion & metastasis (IM)  \\\n",
       "0                          0                                      0   \n",
       "1                          0                                      0   \n",
       "2                          0                                      0   \n",
       "3                          0                                      0   \n",
       "4                          0                                      0   \n",
       "\n",
       "   Genome instability & mutation (GI)  Tumor-promoting inflammation (TPI)  \\\n",
       "0                                   0                                   1   \n",
       "1                                   0                                   1   \n",
       "2                                   0                                   1   \n",
       "3                                   0                                   1   \n",
       "4                                   0                                   1   \n",
       "\n",
       "   Deregulating cellular energetics (CE)  Avoiding immune destruction (ID)  \n",
       "0                                      0                                 0  \n",
       "1                                      0                                 0  \n",
       "2                                      0                                 0  \n",
       "3                                      0                                 0  \n",
       "4                                      0                                 0  "
      ]
     },
     "execution_count": 12,
     "metadata": {},
     "output_type": "execute_result"
    }
   ],
   "source": [
    "## Reading ADEClassificationDataset\n",
    "df_hallmark = pd.read_csv(\"/project/pi_hongyu_umass_edu/shared_datasets/TextClassification/HallmarkOfCancer/processed_train_data.csv\")\n",
    "print(df_hallmark.shape)\n",
    "df_hallmark.head()"
   ]
  },
  {
   "cell_type": "code",
   "execution_count": 18,
   "metadata": {},
   "outputs": [
    {
     "name": "stdout",
     "output_type": "stream",
     "text": [
      "['Sustaining proliferative signaling (PS)', 'Evading growth suppressors (GS)', 'Resisting cell death (CD)', 'Enabling replicative immortality (RI)', 'Inducing angiogenesis (A)', 'Activating invasion & metastasis (IM)', 'Genome instability & mutation (GI)', 'Tumor-promoting inflammation (TPI)', 'Deregulating cellular energetics (CE)', 'Avoiding immune destruction (ID)']\n",
      "10\n"
     ]
    }
   ],
   "source": [
    "# df_hallmark.columns \n",
    "cols = [col for col in df_hallmark.columns if col != \"Text\"]\n",
    "print(cols)\n",
    "print(len(cols))"
   ]
  },
  {
   "cell_type": "code",
   "execution_count": 20,
   "metadata": {},
   "outputs": [
    {
     "name": "stdout",
     "output_type": "stream",
     "text": [
      "Index(['Text', 'Label'], dtype='object')\n"
     ]
    },
    {
     "data": {
      "text/html": [
       "<div>\n",
       "<style scoped>\n",
       "    .dataframe tbody tr th:only-of-type {\n",
       "        vertical-align: middle;\n",
       "    }\n",
       "\n",
       "    .dataframe tbody tr th {\n",
       "        vertical-align: top;\n",
       "    }\n",
       "\n",
       "    .dataframe thead th {\n",
       "        text-align: right;\n",
       "    }\n",
       "</style>\n",
       "<table border=\"1\" class=\"dataframe\">\n",
       "  <thead>\n",
       "    <tr style=\"text-align: right;\">\n",
       "      <th></th>\n",
       "      <th>Text</th>\n",
       "      <th>Label</th>\n",
       "    </tr>\n",
       "  </thead>\n",
       "  <tbody>\n",
       "    <tr>\n",
       "      <th>139</th>\n",
       "      <td>It is demonstrated that the mei-41 gene is a h...</td>\n",
       "      <td>Sustaining proliferative signaling (PS)</td>\n",
       "    </tr>\n",
       "    <tr>\n",
       "      <th>140</th>\n",
       "      <td>This result suggests that 310-320 nm-light ind...</td>\n",
       "      <td>Sustaining proliferative signaling (PS)</td>\n",
       "    </tr>\n",
       "    <tr>\n",
       "      <th>196</th>\n",
       "      <td>LYTF also induces cell senescence , as indicat...</td>\n",
       "      <td>Sustaining proliferative signaling (PS)</td>\n",
       "    </tr>\n",
       "    <tr>\n",
       "      <th>216</th>\n",
       "      <td>Because most of these cancers resembled trichi...</td>\n",
       "      <td>Sustaining proliferative signaling (PS)</td>\n",
       "    </tr>\n",
       "    <tr>\n",
       "      <th>441</th>\n",
       "      <td>This decrease in levels of high-grade neoplast...</td>\n",
       "      <td>Sustaining proliferative signaling (PS)</td>\n",
       "    </tr>\n",
       "    <tr>\n",
       "      <th>...</th>\n",
       "      <td>...</td>\n",
       "      <td>...</td>\n",
       "    </tr>\n",
       "    <tr>\n",
       "      <th>120993</th>\n",
       "      <td>Antibody phospho-kinase array analysis reveale...</td>\n",
       "      <td>Avoiding immune destruction (ID)</td>\n",
       "    </tr>\n",
       "    <tr>\n",
       "      <th>121011</th>\n",
       "      <td>Moreover , association of two drugs resulted i...</td>\n",
       "      <td>Avoiding immune destruction (ID)</td>\n",
       "    </tr>\n",
       "    <tr>\n",
       "      <th>121012</th>\n",
       "      <td>Downregulation of p-EGFR , p-Akt , p-mTOR , an...</td>\n",
       "      <td>Avoiding immune destruction (ID)</td>\n",
       "    </tr>\n",
       "    <tr>\n",
       "      <th>121013</th>\n",
       "      <td>These studies suggest that nimotuzumab and cel...</td>\n",
       "      <td>Avoiding immune destruction (ID)</td>\n",
       "    </tr>\n",
       "    <tr>\n",
       "      <th>121107</th>\n",
       "      <td>This group displayed upregulation of proteins ...</td>\n",
       "      <td>Avoiding immune destruction (ID)</td>\n",
       "    </tr>\n",
       "  </tbody>\n",
       "</table>\n",
       "<p>12510 rows × 2 columns</p>\n",
       "</div>"
      ],
      "text/plain": [
       "                                                     Text  \\\n",
       "139     It is demonstrated that the mei-41 gene is a h...   \n",
       "140     This result suggests that 310-320 nm-light ind...   \n",
       "196     LYTF also induces cell senescence , as indicat...   \n",
       "216     Because most of these cancers resembled trichi...   \n",
       "441     This decrease in levels of high-grade neoplast...   \n",
       "...                                                   ...   \n",
       "120993  Antibody phospho-kinase array analysis reveale...   \n",
       "121011  Moreover , association of two drugs resulted i...   \n",
       "121012  Downregulation of p-EGFR , p-Akt , p-mTOR , an...   \n",
       "121013  These studies suggest that nimotuzumab and cel...   \n",
       "121107  This group displayed upregulation of proteins ...   \n",
       "\n",
       "                                          Label  \n",
       "139     Sustaining proliferative signaling (PS)  \n",
       "140     Sustaining proliferative signaling (PS)  \n",
       "196     Sustaining proliferative signaling (PS)  \n",
       "216     Sustaining proliferative signaling (PS)  \n",
       "441     Sustaining proliferative signaling (PS)  \n",
       "...                                         ...  \n",
       "120993         Avoiding immune destruction (ID)  \n",
       "121011         Avoiding immune destruction (ID)  \n",
       "121012         Avoiding immune destruction (ID)  \n",
       "121013         Avoiding immune destruction (ID)  \n",
       "121107         Avoiding immune destruction (ID)  \n",
       "\n",
       "[12510 rows x 2 columns]"
      ]
     },
     "execution_count": 20,
     "metadata": {},
     "output_type": "execute_result"
    }
   ],
   "source": [
    "df_long = pd.melt(df_hallmark, id_vars=[\"Text\"], \n",
    "                  value_vars= cols, \n",
    "                  var_name=\"Label\", \n",
    "                  value_name=\"Status\")\n",
    "\n",
    "df_long = df_long[df_long[\"Status\"] == True].drop(columns=\"Status\")\n",
    "\n",
    "print(df_long.columns)\n",
    "df_long"
   ]
  },
  {
   "cell_type": "markdown",
   "metadata": {},
   "source": [
    "## Processsing MedicalAbstractsTC"
   ]
  },
  {
   "cell_type": "markdown",
   "metadata": {},
   "source": [
    "## Processsing MedicalTranscriptsClassification"
   ]
  },
  {
   "cell_type": "markdown",
   "metadata": {},
   "source": [
    "## Processsing PubMed-200k-RCT"
   ]
  },
  {
   "cell_type": "markdown",
   "metadata": {},
   "source": [
    "## Processsing RateMDs"
   ]
  },
  {
   "cell_type": "markdown",
   "metadata": {},
   "source": [
    "## Processsing CancerDocClassification"
   ]
  },
  {
   "cell_type": "markdown",
   "metadata": {},
   "source": [
    "## Processsing HealthcareTweets"
   ]
  },
  {
   "cell_type": "markdown",
   "metadata": {},
   "source": [
    "## Processsing MedicalAdviceClassification"
   ]
  },
  {
   "cell_type": "markdown",
   "metadata": {},
   "source": [
    "## Processsing OHSUMedDataset"
   ]
  },
  {
   "cell_type": "markdown",
   "metadata": {},
   "source": [
    "## Processsing PubMedMultiLabelTextClassification"
   ]
  },
  {
   "cell_type": "markdown",
   "metadata": {},
   "source": []
  }
 ],
 "metadata": {
  "kernelspec": {
   "display_name": "Robust_LLMs_in_OOD_Setting_Medical_NLP",
   "language": "python",
   "name": "python3"
  },
  "language_info": {
   "codemirror_mode": {
    "name": "ipython",
    "version": 3
   },
   "file_extension": ".py",
   "mimetype": "text/x-python",
   "name": "python",
   "nbconvert_exporter": "python",
   "pygments_lexer": "ipython3",
   "version": "3.9.20"
  },
  "orig_nbformat": 4
 },
 "nbformat": 4,
 "nbformat_minor": 2
}
